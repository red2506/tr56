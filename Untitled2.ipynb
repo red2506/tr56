{
  "nbformat": 4,
  "nbformat_minor": 0,
  "metadata": {
    "colab": {
      "name": "Untitled2.ipynb",
      "provenance": [],
      "collapsed_sections": [],
      "include_colab_link": true
    },
    "kernelspec": {
      "name": "python3",
      "display_name": "Python 3"
    },
    "language_info": {
      "name": "python"
    }
  },
  "cells": [
    {
      "cell_type": "markdown",
      "metadata": {
        "id": "view-in-github",
        "colab_type": "text"
      },
      "source": [
        "<a href=\"https://colab.research.google.com/github/red2506/tr56/blob/main/Untitled2.ipynb\" target=\"_parent\"><img src=\"https://colab.research.google.com/assets/colab-badge.svg\" alt=\"Open In Colab\"/></a>"
      ]
    },
    {
      "cell_type": "markdown",
      "source": [
        "**Sony Rise Challenge**"
      ],
      "metadata": {
        "id": "pYSkrsi2cGh1"
      }
    },
    {
      "cell_type": "code",
      "source": [
        ""
      ],
      "metadata": {
        "id": "HDwkg_NKZv4s"
      },
      "execution_count": null,
      "outputs": []
    },
    {
      "cell_type": "code",
      "source": [
        "#import libraries\n",
        "import pandas as pd\n",
        "import numpy as np\n",
        "import seaborn as sns\n",
        "import matplotlib.pyplot as plt\n",
        "import statsmodels.api as sm\n",
        "from sklearn.model_selection import train_test_split \n",
        "from sklearn import metrics\n",
        "from scipy import stats"
      ],
      "metadata": {
        "id": "duXYRkZjci7R",
        "outputId": "1e58b345-0a36-417c-bb0b-4a39b11c762d",
        "colab": {
          "base_uri": "https://localhost:8080/"
        }
      },
      "execution_count": null,
      "outputs": [
        {
          "output_type": "stream",
          "name": "stderr",
          "text": [
            "/usr/local/lib/python3.7/dist-packages/statsmodels/tools/_testing.py:19: FutureWarning: pandas.util.testing is deprecated. Use the functions in the public API at pandas.testing instead.\n",
            "  import pandas.util.testing as tm\n"
          ]
        }
      ]
    },
    {
      "cell_type": "code",
      "source": [
        "#Read Data and understand Summary\n",
        "#import data\n",
        "content = pd.read_csv('content.csv')\n",
        "relationship = pd.read_csv('relationship.csv')\n",
        "test = pd.read_csv('test.csv')\n",
        "user = pd.read_csv('user.csv')"
      ],
      "metadata": {
        "id": "g8skTqwHZ3sR"
      },
      "execution_count": null,
      "outputs": []
    },
    {
      "cell_type": "code",
      "source": [
        "df = pd.merge(relationship,content,on='content_id')    \n",
        "final = pd.merge(df,user,on='user_id')\n",
        "final = final.drop(columns=['release_date','date','joining_date'])\n",
        "final.head(5)"
      ],
      "metadata": {
        "id": "7Grm_iIQmw79",
        "colab": {
          "base_uri": "https://localhost:8080/",
          "height": 268
        },
        "outputId": "f674b350-478b-483c-ea4c-c9973705142f"
      },
      "execution_count": null,
      "outputs": [
        {
          "output_type": "execute_result",
          "data": {
            "text/plain": [
              "                 user_id       content_id  duration_x start_time  end_time  \\\n",
              "0  user_44902@domain.com   cont_1718_16_7   1920000.0   06:19:13  06:51:13   \n",
              "1  user_44902@domain.com     cont_263_3_8    960000.0   15:34:10  15:50:10   \n",
              "2  user_44902@domain.com   cont_1286_2_21   2880000.0   22:51:32  23:39:32   \n",
              "3  user_44902@domain.com  cont_4460_10_10    840000.0   19:13:08  19:27:08   \n",
              "4  user_44902@domain.com     cont_310_8_1   2220000.0   13:49:29  14:26:29   \n",
              "\n",
              "  content_type language        genre  duration_y  rating  episode_count  \\\n",
              "0       series    hindi        drama     2880000       6              7   \n",
              "1       series  english  documentary     2880000       2              8   \n",
              "2       series    hindi        drama     3780000       6             21   \n",
              "3       series    hindi        drama     2760000       1             10   \n",
              "4       series  english       comedy     4320000       4              1   \n",
              "\n",
              "   season_count  user_age gender location  \n",
              "0            16        59      F  Tripura  \n",
              "1             3        59      F  Tripura  \n",
              "2             2        59      F  Tripura  \n",
              "3            10        59      F  Tripura  \n",
              "4             8        59      F  Tripura  "
            ],
            "text/html": [
              "\n",
              "  <div id=\"df-a593b516-f0f3-4fa2-ac20-f7e51feaaf67\">\n",
              "    <div class=\"colab-df-container\">\n",
              "      <div>\n",
              "<style scoped>\n",
              "    .dataframe tbody tr th:only-of-type {\n",
              "        vertical-align: middle;\n",
              "    }\n",
              "\n",
              "    .dataframe tbody tr th {\n",
              "        vertical-align: top;\n",
              "    }\n",
              "\n",
              "    .dataframe thead th {\n",
              "        text-align: right;\n",
              "    }\n",
              "</style>\n",
              "<table border=\"1\" class=\"dataframe\">\n",
              "  <thead>\n",
              "    <tr style=\"text-align: right;\">\n",
              "      <th></th>\n",
              "      <th>user_id</th>\n",
              "      <th>content_id</th>\n",
              "      <th>duration_x</th>\n",
              "      <th>start_time</th>\n",
              "      <th>end_time</th>\n",
              "      <th>content_type</th>\n",
              "      <th>language</th>\n",
              "      <th>genre</th>\n",
              "      <th>duration_y</th>\n",
              "      <th>rating</th>\n",
              "      <th>episode_count</th>\n",
              "      <th>season_count</th>\n",
              "      <th>user_age</th>\n",
              "      <th>gender</th>\n",
              "      <th>location</th>\n",
              "    </tr>\n",
              "  </thead>\n",
              "  <tbody>\n",
              "    <tr>\n",
              "      <th>0</th>\n",
              "      <td>user_44902@domain.com</td>\n",
              "      <td>cont_1718_16_7</td>\n",
              "      <td>1920000.0</td>\n",
              "      <td>06:19:13</td>\n",
              "      <td>06:51:13</td>\n",
              "      <td>series</td>\n",
              "      <td>hindi</td>\n",
              "      <td>drama</td>\n",
              "      <td>2880000</td>\n",
              "      <td>6</td>\n",
              "      <td>7</td>\n",
              "      <td>16</td>\n",
              "      <td>59</td>\n",
              "      <td>F</td>\n",
              "      <td>Tripura</td>\n",
              "    </tr>\n",
              "    <tr>\n",
              "      <th>1</th>\n",
              "      <td>user_44902@domain.com</td>\n",
              "      <td>cont_263_3_8</td>\n",
              "      <td>960000.0</td>\n",
              "      <td>15:34:10</td>\n",
              "      <td>15:50:10</td>\n",
              "      <td>series</td>\n",
              "      <td>english</td>\n",
              "      <td>documentary</td>\n",
              "      <td>2880000</td>\n",
              "      <td>2</td>\n",
              "      <td>8</td>\n",
              "      <td>3</td>\n",
              "      <td>59</td>\n",
              "      <td>F</td>\n",
              "      <td>Tripura</td>\n",
              "    </tr>\n",
              "    <tr>\n",
              "      <th>2</th>\n",
              "      <td>user_44902@domain.com</td>\n",
              "      <td>cont_1286_2_21</td>\n",
              "      <td>2880000.0</td>\n",
              "      <td>22:51:32</td>\n",
              "      <td>23:39:32</td>\n",
              "      <td>series</td>\n",
              "      <td>hindi</td>\n",
              "      <td>drama</td>\n",
              "      <td>3780000</td>\n",
              "      <td>6</td>\n",
              "      <td>21</td>\n",
              "      <td>2</td>\n",
              "      <td>59</td>\n",
              "      <td>F</td>\n",
              "      <td>Tripura</td>\n",
              "    </tr>\n",
              "    <tr>\n",
              "      <th>3</th>\n",
              "      <td>user_44902@domain.com</td>\n",
              "      <td>cont_4460_10_10</td>\n",
              "      <td>840000.0</td>\n",
              "      <td>19:13:08</td>\n",
              "      <td>19:27:08</td>\n",
              "      <td>series</td>\n",
              "      <td>hindi</td>\n",
              "      <td>drama</td>\n",
              "      <td>2760000</td>\n",
              "      <td>1</td>\n",
              "      <td>10</td>\n",
              "      <td>10</td>\n",
              "      <td>59</td>\n",
              "      <td>F</td>\n",
              "      <td>Tripura</td>\n",
              "    </tr>\n",
              "    <tr>\n",
              "      <th>4</th>\n",
              "      <td>user_44902@domain.com</td>\n",
              "      <td>cont_310_8_1</td>\n",
              "      <td>2220000.0</td>\n",
              "      <td>13:49:29</td>\n",
              "      <td>14:26:29</td>\n",
              "      <td>series</td>\n",
              "      <td>english</td>\n",
              "      <td>comedy</td>\n",
              "      <td>4320000</td>\n",
              "      <td>4</td>\n",
              "      <td>1</td>\n",
              "      <td>8</td>\n",
              "      <td>59</td>\n",
              "      <td>F</td>\n",
              "      <td>Tripura</td>\n",
              "    </tr>\n",
              "  </tbody>\n",
              "</table>\n",
              "</div>\n",
              "      <button class=\"colab-df-convert\" onclick=\"convertToInteractive('df-a593b516-f0f3-4fa2-ac20-f7e51feaaf67')\"\n",
              "              title=\"Convert this dataframe to an interactive table.\"\n",
              "              style=\"display:none;\">\n",
              "        \n",
              "  <svg xmlns=\"http://www.w3.org/2000/svg\" height=\"24px\"viewBox=\"0 0 24 24\"\n",
              "       width=\"24px\">\n",
              "    <path d=\"M0 0h24v24H0V0z\" fill=\"none\"/>\n",
              "    <path d=\"M18.56 5.44l.94 2.06.94-2.06 2.06-.94-2.06-.94-.94-2.06-.94 2.06-2.06.94zm-11 1L8.5 8.5l.94-2.06 2.06-.94-2.06-.94L8.5 2.5l-.94 2.06-2.06.94zm10 10l.94 2.06.94-2.06 2.06-.94-2.06-.94-.94-2.06-.94 2.06-2.06.94z\"/><path d=\"M17.41 7.96l-1.37-1.37c-.4-.4-.92-.59-1.43-.59-.52 0-1.04.2-1.43.59L10.3 9.45l-7.72 7.72c-.78.78-.78 2.05 0 2.83L4 21.41c.39.39.9.59 1.41.59.51 0 1.02-.2 1.41-.59l7.78-7.78 2.81-2.81c.8-.78.8-2.07 0-2.86zM5.41 20L4 18.59l7.72-7.72 1.47 1.35L5.41 20z\"/>\n",
              "  </svg>\n",
              "      </button>\n",
              "      \n",
              "  <style>\n",
              "    .colab-df-container {\n",
              "      display:flex;\n",
              "      flex-wrap:wrap;\n",
              "      gap: 12px;\n",
              "    }\n",
              "\n",
              "    .colab-df-convert {\n",
              "      background-color: #E8F0FE;\n",
              "      border: none;\n",
              "      border-radius: 50%;\n",
              "      cursor: pointer;\n",
              "      display: none;\n",
              "      fill: #1967D2;\n",
              "      height: 32px;\n",
              "      padding: 0 0 0 0;\n",
              "      width: 32px;\n",
              "    }\n",
              "\n",
              "    .colab-df-convert:hover {\n",
              "      background-color: #E2EBFA;\n",
              "      box-shadow: 0px 1px 2px rgba(60, 64, 67, 0.3), 0px 1px 3px 1px rgba(60, 64, 67, 0.15);\n",
              "      fill: #174EA6;\n",
              "    }\n",
              "\n",
              "    [theme=dark] .colab-df-convert {\n",
              "      background-color: #3B4455;\n",
              "      fill: #D2E3FC;\n",
              "    }\n",
              "\n",
              "    [theme=dark] .colab-df-convert:hover {\n",
              "      background-color: #434B5C;\n",
              "      box-shadow: 0px 1px 3px 1px rgba(0, 0, 0, 0.15);\n",
              "      filter: drop-shadow(0px 1px 2px rgba(0, 0, 0, 0.3));\n",
              "      fill: #FFFFFF;\n",
              "    }\n",
              "  </style>\n",
              "\n",
              "      <script>\n",
              "        const buttonEl =\n",
              "          document.querySelector('#df-a593b516-f0f3-4fa2-ac20-f7e51feaaf67 button.colab-df-convert');\n",
              "        buttonEl.style.display =\n",
              "          google.colab.kernel.accessAllowed ? 'block' : 'none';\n",
              "\n",
              "        async function convertToInteractive(key) {\n",
              "          const element = document.querySelector('#df-a593b516-f0f3-4fa2-ac20-f7e51feaaf67');\n",
              "          const dataTable =\n",
              "            await google.colab.kernel.invokeFunction('convertToInteractive',\n",
              "                                                     [key], {});\n",
              "          if (!dataTable) return;\n",
              "\n",
              "          const docLinkHtml = 'Like what you see? Visit the ' +\n",
              "            '<a target=\"_blank\" href=https://colab.research.google.com/notebooks/data_table.ipynb>data table notebook</a>'\n",
              "            + ' to learn more about interactive tables.';\n",
              "          element.innerHTML = '';\n",
              "          dataTable['output_type'] = 'display_data';\n",
              "          await google.colab.output.renderOutput(dataTable, element);\n",
              "          const docLink = document.createElement('div');\n",
              "          docLink.innerHTML = docLinkHtml;\n",
              "          element.appendChild(docLink);\n",
              "        }\n",
              "      </script>\n",
              "    </div>\n",
              "  </div>\n",
              "  "
            ]
          },
          "metadata": {},
          "execution_count": 56
        }
      ]
    },
    {
      "cell_type": "code",
      "source": [
        ""
      ],
      "metadata": {
        "id": "hzy-t1gvU7Wi"
      },
      "execution_count": null,
      "outputs": []
    },
    {
      "cell_type": "markdown",
      "source": [
        "19032022"
      ],
      "metadata": {
        "id": "emIXsdh6VARb"
      }
    },
    {
      "cell_type": "code",
      "source": [
        ""
      ],
      "metadata": {
        "id": "WHvDtMrhU_fh"
      },
      "execution_count": null,
      "outputs": []
    },
    {
      "cell_type": "code",
      "source": [
        ""
      ],
      "metadata": {
        "id": "9qwq_hlbU7Zt"
      },
      "execution_count": null,
      "outputs": []
    },
    {
      "cell_type": "code",
      "source": [
        ""
      ],
      "metadata": {
        "id": "ilKR0MM-U7dU"
      },
      "execution_count": null,
      "outputs": []
    },
    {
      "cell_type": "code",
      "source": [
        ""
      ],
      "metadata": {
        "id": "hFVA6lwLU7hI"
      },
      "execution_count": null,
      "outputs": []
    },
    {
      "cell_type": "markdown",
      "source": [
        "phyton"
      ],
      "metadata": {
        "id": "5UnwpWghU9X0"
      }
    },
    {
      "cell_type": "code",
      "source": [
        "import re\n",
        "import csv\n",
        "\n",
        "with open(\"relationships.csv\") as f:\n",
        "    read = csv.reader(f)\n",
        "for row in read :\n",
        "  timeregex=re.compile(r'(/d/d):(/d/d):(/d/d)')\n",
        "  m=timeregex.search(start_time)\n",
        "  hour=m.group(1)\n",
        "  min=m.group(2)\n",
        "  sec=m.group(3)"
      ],
      "metadata": {
        "colab": {
          "base_uri": "https://localhost:8080/",
          "height": 234
        },
        "id": "M7H07NLsfCND",
        "outputId": "a030f732-dfb1-47e9-e5a4-4b3dfb4f448a"
      },
      "execution_count": null,
      "outputs": [
        {
          "output_type": "error",
          "ename": "FileNotFoundError",
          "evalue": "ignored",
          "traceback": [
            "\u001b[0;31m---------------------------------------------------------------------------\u001b[0m",
            "\u001b[0;31mFileNotFoundError\u001b[0m                         Traceback (most recent call last)",
            "\u001b[0;32m<ipython-input-4-35a75a5b8824>\u001b[0m in \u001b[0;36m<module>\u001b[0;34m()\u001b[0m\n\u001b[1;32m      2\u001b[0m \u001b[0;32mimport\u001b[0m \u001b[0mcsv\u001b[0m\u001b[0;34m\u001b[0m\u001b[0;34m\u001b[0m\u001b[0m\n\u001b[1;32m      3\u001b[0m \u001b[0;34m\u001b[0m\u001b[0m\n\u001b[0;32m----> 4\u001b[0;31m \u001b[0;32mwith\u001b[0m \u001b[0mopen\u001b[0m\u001b[0;34m(\u001b[0m\u001b[0;34m\"relationships.csv\"\u001b[0m\u001b[0;34m)\u001b[0m \u001b[0;32mas\u001b[0m \u001b[0mf\u001b[0m\u001b[0;34m:\u001b[0m\u001b[0;34m\u001b[0m\u001b[0;34m\u001b[0m\u001b[0m\n\u001b[0m\u001b[1;32m      5\u001b[0m     \u001b[0mread\u001b[0m \u001b[0;34m=\u001b[0m \u001b[0mcsv\u001b[0m\u001b[0;34m.\u001b[0m\u001b[0mreader\u001b[0m\u001b[0;34m(\u001b[0m\u001b[0mf\u001b[0m\u001b[0;34m)\u001b[0m\u001b[0;34m\u001b[0m\u001b[0;34m\u001b[0m\u001b[0m\n\u001b[1;32m      6\u001b[0m \u001b[0;32mfor\u001b[0m \u001b[0mrow\u001b[0m \u001b[0;32min\u001b[0m \u001b[0mread\u001b[0m \u001b[0;34m:\u001b[0m\u001b[0;34m\u001b[0m\u001b[0;34m\u001b[0m\u001b[0m\n",
            "\u001b[0;31mFileNotFoundError\u001b[0m: [Errno 2] No such file or directory: 'relationships.csv'"
          ]
        }
      ]
    },
    {
      "cell_type": "code",
      "source": [
        "from google.colab import drive\n",
        "drive.mount('/content/drive')"
      ],
      "metadata": {
        "id": "Y--Rg7uag5Qh",
        "colab": {
          "base_uri": "https://localhost:8080/"
        },
        "outputId": "8b49f4db-8dac-4143-9a8b-6f03e12f3492"
      },
      "execution_count": null,
      "outputs": [
        {
          "output_type": "stream",
          "name": "stdout",
          "text": [
            "Mounted at /content/drive\n"
          ]
        }
      ]
    },
    {
      "cell_type": "code",
      "source": [
        "# Python program to find the\n",
        "# difference between two times\n",
        "  \n",
        "  \n",
        "# function to obtain the time\n",
        "# in minutes form\n",
        "def difference(h1, m1,s1, h2, m2, s2):\n",
        "      \n",
        "    # convert h1 : m1 into\n",
        "    # seconds\n",
        "    t1 = h1 * 3600 + m1*60 + s1\n",
        "      \n",
        "    # convert h2 : m2 into\n",
        "    # seconds \n",
        "    t2 = h2 * 3600 + m2*60+ s2\n",
        "      \n",
        "    if (t1 == t2): \n",
        "        print(\"Both are same times\")\n",
        "        return \n",
        "    else:\n",
        "          \n",
        "        # calculating the difference\n",
        "        diff = t2-t1\n",
        "          \n",
        "    # calculating hours from\n",
        "    # difference\n",
        "    h = (int(diff / 3600)) % 24\n",
        "      \n",
        "    # calculating minutes from \n",
        "    # difference\n",
        "    m = int(diff / 60) %60\n",
        "\n",
        "\n",
        "    if h==0 and m<10:\n",
        "      print(\"\\tless than 10 minutes\")\n",
        "    \n",
        "    \n",
        "    # calculating seconds from \n",
        "    # difference\n",
        "    s = diff%60\n",
        "  \n",
        "    print(h, \":\", m, \":\", s)\n",
        "  \n",
        "# Driver's code\n",
        "if __name__ == \"__main__\":\n",
        "      \n",
        "    difference(7, 20,20, 9, 45,20)\n",
        "    difference(7, 20,20, 7, 29,20)\n",
        "    difference(15, 23,10, 18, 54,10)\n",
        "    difference(16, 20,10, 16, 20,10)"
      ],
      "metadata": {
        "id": "BINM9x7TZxJl",
        "colab": {
          "base_uri": "https://localhost:8080/"
        },
        "outputId": "68fd024d-9cf5-4e65-c6ba-92206950e574"
      },
      "execution_count": null,
      "outputs": [
        {
          "output_type": "stream",
          "name": "stdout",
          "text": [
            "2 : 25 : 0\n",
            "\tless than 10 minutes\n",
            "0 : 9 : 0\n",
            "3 : 31 : 0\n",
            "Both are same times\n"
          ]
        }
      ]
    }
  ]
}